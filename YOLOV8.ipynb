{
  "nbformat": 4,
  "nbformat_minor": 0,
  "metadata": {
    "colab": {
      "private_outputs": true,
      "provenance": [],
      "gpuType": "T4",
      "mount_file_id": "1BXQH-W-CS0-LpogL31HbN0vGgtDNz3xk",
      "authorship_tag": "ABX9TyP0NYJXinq1hItrV8kiJNc+",
      "include_colab_link": true
    },
    "kernelspec": {
      "name": "python3",
      "display_name": "Python 3"
    },
    "language_info": {
      "name": "python"
    },
    "accelerator": "GPU"
  },
  "cells": [
    {
      "cell_type": "markdown",
      "metadata": {
        "id": "view-in-github",
        "colab_type": "text"
      },
      "source": [
        "<a href=\"https://colab.research.google.com/github/eyreynational/Assiment-datascient1/blob/main/YOLOV8.ipynb\" target=\"_parent\"><img src=\"https://colab.research.google.com/assets/colab-badge.svg\" alt=\"Open In Colab\"/></a>"
      ]
    },
    {
      "cell_type": "code",
      "source": [
        "from google.colab import drive\n",
        "drive.mount('/content/drive')"
      ],
      "metadata": {
        "id": "7YcfEO-Du-mb"
      },
      "execution_count": null,
      "outputs": []
    },
    {
      "cell_type": "code",
      "execution_count": null,
      "metadata": {
        "id": "cgo5GV6oDw1T"
      },
      "outputs": [],
      "source": [
        "import locale\n",
        "def getpreferredencoding(do_setlocale = True):\n",
        "    return \"UTF-8\"\n",
        "locale.getpreferredencoding = getpreferredencoding\n",
        "# Pip install method (recommended)\n",
        "%pip install ultralytics\n",
        "!pip install ultralytics"
      ]
    },
    {
      "cell_type": "code",
      "source": [
        "# Pip install method (recommended)\n",
        "!pip install ultralytics\n",
        "!pip install squarify # Install squarify package\n",
        "\n",
        "\n",
        "# Importing the required libraries\n",
        "from ultralytics import YOLO\n",
        "import squarify # Now you can import squarify\n",
        "import matplotlib.pyplot as plt\n",
        "import cv2\n",
        "import os\n",
        "import random\n",
        "import pandas as pd\n",
        "import matplotlib.image as mpimg\n",
        "import seaborn as sns\n",
        "\n",
        "sns.set_style('darkgrid')\n",
        "\n",
        "%matplotlib inline"
      ],
      "metadata": {
        "id": "V-L01i6U-34n"
      },
      "execution_count": null,
      "outputs": []
    },
    {
      "cell_type": "code",
      "source": [],
      "metadata": {
        "id": "MjpxV0GbTT0f"
      },
      "execution_count": null,
      "outputs": []
    },
    {
      "cell_type": "code",
      "source": [
        "# Define the paths to the images and labels directories\n",
        "train_images = \"/content/drive/MyDrive/Master/Dataset/YOLO/trian/images\"\n",
        "train_labels = \"/content/drive/MyDrive/Master/Dataset/YOLO/trian/labels\"\n",
        "\n",
        "test_images = \"/content/drive/MyDrive/Master/Dataset/YOLO/test/images\"\n",
        "test_labels = \"/content/drive/MyDrive/Master/Dataset/YOLO/test/labels\"\n",
        "\n",
        "\n",
        "# Get a list of all the image files in the training images directory\n",
        "image_files = os.listdir(train_images)\n",
        "\n",
        "# Choose 16 random image files from the list\n",
        "random_images = random.sample(image_files, 16)\n",
        "\n",
        "# Set up the plot\n",
        "fig, axs = plt.subplots(4, 4, figsize=(16, 16))\n",
        "\n",
        "# Loop over the random images and plot the object detections\n",
        "for i, image_file in enumerate(random_images):\n",
        "    row = i // 4\n",
        "    col = i % 4\n",
        "\n",
        "    # Load the image\n",
        "    image_path = os.path.join(train_images, image_file)\n",
        "    image = cv2.imread(image_path)\n",
        "\n",
        "    # Load the labels for this image\n",
        "    label_file = os.path.splitext(image_file)[0] + \".txt\"\n",
        "    label_path = os.path.join(train_labels, label_file)\n",
        "    with open(label_path, \"r\") as f:\n",
        "        labels = f.read().strip().split(\"\\n\")\n",
        "\n",
        "    # Loop over the labels and plot the object detections\n",
        "    # Loop over the labels and plot the object detections\n",
        "    for label in labels:\n",
        "        if len(label.split()) != 5:\n",
        "            continue\n",
        "        class_id, x_center, y_center, width, height = map(float, label.split())\n",
        "        x_min = int((x_center - width/2) * image.shape[1])\n",
        "        y_min = int((y_center - height/2) * image.shape[0])\n",
        "        x_max = int((x_center + width/2) * image.shape[1])\n",
        "        y_max = int((y_center + height/2) * image.shape[0])\n",
        "        cv2.rectangle(image, (x_min, y_min), (x_max, y_max), (0, 255, 0), 3)\n",
        "\n",
        "\n",
        "    # Show the image with the object detections\n",
        "    axs[row, col].imshow(cv2.cvtColor(image, cv2.COLOR_BGR2RGB))\n",
        "    axs[row, col].axis('off')\n",
        "\n",
        "plt.show()"
      ],
      "metadata": {
        "id": "j2WohbsU--Fl"
      },
      "execution_count": null,
      "outputs": []
    },
    {
      "cell_type": "code",
      "source": [
        "# Load an image using OpenCV\n",
        "image = cv2.imread(\"/content/drive/MyDrive/Master/Dataset/YOLO/test/images/Batcterial_spot (281).JPG\")\n",
        "\n",
        "# Get the size of the image\n",
        "height, width, channels = image.shape\n",
        "print(f\"The image has dimensions {width}x{height} and {channels} channels.\")"
      ],
      "metadata": {
        "id": "6mdOK9xC_AWS"
      },
      "execution_count": null,
      "outputs": []
    },
    {
      "cell_type": "code",
      "source": [
        "pip install wandb\n"
      ],
      "metadata": {
        "id": "v4NOSNsl_F2V"
      },
      "execution_count": null,
      "outputs": []
    },
    {
      "cell_type": "code",
      "source": [
        "import wandb\n",
        "wandb.login(key=\"53f6a7ea5457ca3231dd5f3c3e6aa8dbe4d5fc72\")\n"
      ],
      "metadata": {
        "id": "86JAarxz_IjB"
      },
      "execution_count": null,
      "outputs": []
    },
    {
      "cell_type": "code",
      "source": [
        "# Loading a pretrained model\n",
        "model = YOLO('yolov8x.pt')\n",
        "\n",
        "# Training the model\n",
        "model.train(data = '/content/drive/MyDrive/Master/Dataset/YOLO/Data.yaml',\n",
        "            epochs = 70,\n",
        "            imgsz = height,\n",
        "            seed = 42,\n",
        "            batch = 8,\n",
        "            workers = 4)"
      ],
      "metadata": {
        "id": "UQK4iTVm_KmM"
      },
      "execution_count": null,
      "outputs": []
    },
    {
      "cell_type": "code",
      "source": [
        "%matplotlib inline\n",
        "# read in the results.csv file as a pandas dataframe\n",
        "df = pd.read_csv('/content/runs/detect/train/results.csv')\n",
        "df.columns = df.columns.str.strip()\n",
        "\n",
        "# create subplots using seaborn\n",
        "fig, axs = plt.subplots(nrows=5, ncols=2, figsize=(15, 15))\n",
        "\n",
        "# plot the columns using seaborn\n",
        "sns.lineplot(x='epoch', y='train/box_loss', data=df, ax=axs[0,0])\n",
        "sns.lineplot(x='epoch', y='train/cls_loss', data=df, ax=axs[0,1])\n",
        "sns.lineplot(x='epoch', y='train/dfl_loss', data=df, ax=axs[1,0])\n",
        "sns.lineplot(x='epoch', y='metrics/precision(B)', data=df, ax=axs[1,1])\n",
        "sns.lineplot(x='epoch', y='metrics/recall(B)', data=df, ax=axs[2,0])\n",
        "sns.lineplot(x='epoch', y='metrics/mAP50(B)', data=df, ax=axs[2,1])\n",
        "sns.lineplot(x='epoch', y='metrics/mAP50-95(B)', data=df, ax=axs[3,0])\n",
        "sns.lineplot(x='epoch', y='val/box_loss', data=df, ax=axs[3,1])\n",
        "sns.lineplot(x='epoch', y='val/cls_loss', data=df, ax=axs[4,0])\n",
        "sns.lineplot(x='epoch', y='val/dfl_loss', data=df, ax=axs[4,1])\n",
        "\n",
        "# set titles and axis labels for each subplot\n",
        "axs[0,0].set(title='Train Box Loss')\n",
        "axs[0,1].set(title='Train Class Loss')\n",
        "axs[1,0].set(title='Train DFL Loss')\n",
        "axs[1,1].set(title='Metrics Precision (B)')\n",
        "axs[2,0].set(title='Metrics Recall (B)')\n",
        "axs[2,1].set(title='Metrics mAP50 (B)')\n",
        "axs[3,0].set(title='Metrics mAP50-95 (B)')\n",
        "axs[3,1].set(title='Validation Box Loss')\n",
        "axs[4,0].set(title='Validation Class Loss')\n",
        "axs[4,1].set(title='Validation DFL Loss')\n",
        "\n",
        "# add suptitle and subheader\n",
        "plt.suptitle('Training Metrics and Loss', fontsize=24)\n",
        "\n",
        "# adjust top margin to make space for suptitle\n",
        "plt.subplots_adjust(top=0.8)\n",
        "\n",
        "# adjust spacing between subplots\n",
        "plt.tight_layout()\n",
        "\n",
        "plt.show()"
      ],
      "metadata": {
        "id": "VYiaotkE_S2T"
      },
      "execution_count": null,
      "outputs": []
    },
    {
      "cell_type": "code",
      "source": [
        "import os\n",
        "import pandas as pd\n",
        "\n",
        "# Function to check YOLO label format\n",
        "def check_label_format(label_path):\n",
        "    with open(label_path, 'r') as f:\n",
        "        for line in f:\n",
        "            values = line.strip().split()\n",
        "            if len(values) != 5:\n",
        "                print(f\"Incorrect number of values in label: {label_path}\")\n",
        "            try:\n",
        "                [float(value) for value in values]  # Check if all values are numerical\n",
        "            except ValueError:\n",
        "                print(f\"Non-numerical value found in label: {label_path}\")\n",
        "\n",
        "# Modify paths to match your dataset location\n",
        "train_data_path = '/content/drive/MyDrive/Master/Dataset/YOLO/trian'\n",
        "label_dir = os.path.join(train_data_path, 'labels')  # Example path to labels\n",
        "label_files = [os.path.join(label_dir, file) for file in os.listdir(label_dir) if file.endswith('.txt')]\n",
        "\n",
        "# Loop through label files and check formats\n",
        "for label_file in label_files:\n",
        "    check_label_format(label_file)"
      ],
      "metadata": {
        "id": "CZP-WkNJW7-a"
      },
      "execution_count": null,
      "outputs": []
    },
    {
      "cell_type": "code",
      "source": [
        "%matplotlib inline\n",
        "# Loading the best performing model\n",
        "model = YOLO('/content/runs/detect/train/weights/best.pt')\n",
        "\n",
        "# Evaluating the model on the test dataset\n",
        "# data is explicitly provided\n",
        "metrics = model.val(data='/content/drive/MyDrive/Master/Dataset/YOLO/Data.yaml', conf=0.25, split='val')\n",
        "\n",
        "\n"
      ],
      "metadata": {
        "id": "C2IDc6c9_VGx"
      },
      "execution_count": null,
      "outputs": []
    },
    {
      "cell_type": "code",
      "source": [
        "# !pip install ultralytics\n",
        "# !pip install seaborn\n",
        "# import seaborn as sns\n",
        "# import matplotlib.pyplot as plt\n",
        "# from ultralytics import YOLO\n",
        "# import pandas as pd"
      ],
      "metadata": {
        "id": "smtiLRWIU2mS"
      },
      "execution_count": null,
      "outputs": []
    },
    {
      "cell_type": "code",
      "source": [
        "%matplotlib inline\n",
        "# Create the barplot\n",
        "ax = sns.barplot(x=['mAP50-95', 'mAP50', 'mAP75'], y=[metrics.box.map, metrics.box.map50, metrics.box.map75])\n",
        "\n",
        "# Set the title and axis labels\n",
        "ax.set_title('YOLO Evaluation Metrics')\n",
        "ax.set_xlabel('Metric')\n",
        "ax.set_ylabel('Value')\n",
        "\n",
        "# Set the figure size\n",
        "fig = plt.gcf()\n",
        "fig.set_size_inches(8, 6)\n",
        "\n",
        "# Add the values on top of the bars\n",
        "for p in ax.patches:\n",
        "    ax.annotate('{:.3f}'.format(p.get_height()), (p.get_x() + p.get_width() / 2, p.get_height()), ha='center', va='bottom')\n",
        "\n",
        "# Show the plot\n",
        "plt.show()"
      ],
      "metadata": {
        "id": "47SCUInj_Xkh"
      },
      "execution_count": null,
      "outputs": []
    },
    {
      "cell_type": "code",
      "source": [
        "\n",
        "\n",
        "%matplotlib inline\n",
        "# Reading the confusion matrix image file\n",
        "img = mpimg.imread('/content/runs/detect/train/confusion_matrix.png')\n",
        "\n",
        "# Plotting the confusion matrix image\n",
        "fig, ax = plt.subplots(figsize = (15, 15))\n",
        "\n",
        "ax.imshow(img)\n",
        "ax.axis('off');\n",
        "\n"
      ],
      "metadata": {
        "id": "pIHxRoaw_ZyJ"
      },
      "execution_count": null,
      "outputs": []
    },
    {
      "cell_type": "code",
      "source": [
        "from google.colab import drive\n",
        "drive.mount('/content/drive')"
      ],
      "metadata": {
        "id": "QYm_2f_4XT2P"
      },
      "execution_count": null,
      "outputs": []
    },
    {
      "cell_type": "code",
      "source": [
        "\n",
        "\n",
        "# Function to perform  detections\n",
        "def ship_detect(img_path):\n",
        "\n",
        "    # Read the image\n",
        "    img = cv2.imread(img_path)\n",
        "\n",
        "    # Pass the image through the detection model and get the result\n",
        "    detect_result = model(img)\n",
        "\n",
        "    # Plot the detections\n",
        "    detect_img = detect_result[0].plot()\n",
        "\n",
        "    # Convert the image to RGB format\n",
        "    detect_img = cv2.cvtColor(detect_img, cv2.COLOR_BGR2RGB)\n",
        "\n",
        "    return detect_img\n",
        "\n"
      ],
      "metadata": {
        "id": "jtdAMSYi_ema"
      },
      "execution_count": null,
      "outputs": []
    },
    {
      "cell_type": "code",
      "source": [
        "import os\n",
        "import random\n",
        "import matplotlib.pyplot as plt\n",
        "import cv2\n",
        "import numpy as np\n",
        "\n",
        "# Path to your test image directory\n",
        "custom_image_dir = '/content/drive/MyDrive/Master/Dataset/YOLO/test/images'\n",
        "\n",
        "# Get the list of image files\n",
        "image_files = os.listdir(custom_image_dir)\n",
        "\n",
        "# Select 25 random images\n",
        "selected_images = random.sample(image_files, 25)\n",
        "\n",
        "# Create subplots\n",
        "fig, axes = plt.subplots(nrows=5, ncols=5, figsize=(25, 25))\n",
        "\n",
        "# Define your object detection function\n",
        "def ship_detect(img_path):\n",
        "    # Read image\n",
        "    img_bgr = cv2.imread(img_path)\n",
        "    img_rgb = cv2.cvtColor(img_bgr, cv2.COLOR_BGR2RGB)\n",
        "\n",
        "    # Run detection using your model\n",
        "    results = model(img_rgb)  # assuming this is your YOLO model\n",
        "    boxes = results[0].boxes.data.cpu().numpy()  # [x1, y1, x2, y2, conf, cls]\n",
        "    class_names = model.names  # class ID to name mapping\n",
        "\n",
        "    for box in boxes:\n",
        "        x1, y1, x2, y2, conf, cls_id = box\n",
        "        label = f\"{class_names[int(cls_id)]}: {conf:.4f}\"  # 4 decimal places\n",
        "        x1, y1, x2, y2 = map(int, [x1, y1, x2, y2])\n",
        "\n",
        "        # Draw box and label\n",
        "        cv2.rectangle(img_rgb, (x1, y1), (x2, y2), (0, 255, 0), 2)\n",
        "        cv2.putText(img_rgb, label, (x1, y1 - 10), cv2.FONT_HERSHEY_SIMPLEX,\n",
        "                    0.6, (255, 0, 0), 2, cv2.LINE_AA)\n",
        "\n",
        "    return img_rgb\n",
        "\n",
        "# Plot detections\n",
        "for i, img_file in enumerate(selected_images):\n",
        "    row_idx = i // 5\n",
        "    col_idx = i % 5\n",
        "\n",
        "    img_path = os.path.join(custom_image_dir, img_file)\n",
        "    detect_img = ship_detect(img_path)\n",
        "\n",
        "    axes[row_idx, col_idx].imshow(detect_img)\n",
        "    axes[row_idx, col_idx].axis('off')\n",
        "\n",
        "plt.subplots_adjust(wspace=0.05, hspace=0.05)\n",
        "plt.show()\n"
      ],
      "metadata": {
        "id": "tZnT6_DSn5m6"
      },
      "execution_count": null,
      "outputs": []
    },
    {
      "cell_type": "code",
      "source": [
        "import os\n",
        "import random\n",
        "import matplotlib.pyplot as plt\n",
        "import cv2\n",
        "import numpy as np\n",
        "\n",
        "# Path to your test image directory\n",
        "custom_image_dir = '/content/drive/MyDrive/Master/Dataset/YOLO/test/images'\n",
        "\n",
        "# Get the list of image files\n",
        "image_files = os.listdir(custom_image_dir)\n",
        "\n",
        "# Select 25 random images\n",
        "selected_images = random.sample(image_files, 25)\n",
        "\n",
        "# Create subplots\n",
        "fig, axes = plt.subplots(nrows=4, ncols=5, figsize=(25, 25))\n",
        "\n",
        "# Object detection function with enhanced labels\n",
        "def ship_detect(img_path):\n",
        "    # Read and convert image\n",
        "    img_bgr = cv2.imread(img_path)\n",
        "    img_rgb = cv2.cvtColor(img_bgr, cv2.COLOR_BGR2RGB)\n",
        "\n",
        "    # Run detection using your YOLO model\n",
        "    results = model(img_rgb)\n",
        "    boxes = results[0].boxes.data.cpu().numpy()  # x1, y1, x2, y2, conf, cls\n",
        "    class_names = model.names\n",
        "\n",
        "    for box in boxes:\n",
        "        x1, y1, x2, y2, conf, cls_id = box\n",
        "        label_text = f\"{class_names[int(cls_id)]}: {conf:.4f}\"  # 4 decimals\n",
        "        x1, y1, x2, y2 = map(int, [x1, y1, x2, y2])\n",
        "\n",
        "        # Draw bounding box\n",
        "        cv2.rectangle(img_rgb, (x1, y1), (x2, y2), (0, 255, 0), 2)\n",
        "\n",
        "        # Calculate label size\n",
        "        (text_w, text_h), baseline = cv2.getTextSize(label_text, cv2.FONT_HERSHEY_SIMPLEX, 0.5, 1)\n",
        "\n",
        "        # Adjust text position\n",
        "        text_x = x1\n",
        "        text_y = y1 - 10 if y1 - 10 > text_h else y1 + text_h + 10\n",
        "\n",
        "        # Draw background rectangle\n",
        "        cv2.rectangle(img_rgb, (text_x, text_y - text_h), (text_x + text_w, text_y + baseline), (0, 0, 0), -1)\n",
        "\n",
        "        # Put label text\n",
        "        cv2.putText(img_rgb, label_text, (text_x, text_y), cv2.FONT_HERSHEY_SIMPLEX,\n",
        "                    0.5, (0, 256, 256), 1, cv2.LINE_AA)\n",
        "\n",
        "    return img_rgb\n",
        "\n",
        "# Plot detection results\n",
        "for i, img_file in enumerate(selected_images):\n",
        "    row_idx = i // 5\n",
        "    col_idx = i % 5\n",
        "\n",
        "    img_path = os.path.join(custom_image_dir, img_file)\n",
        "    detect_img = ship_detect(img_path)\n",
        "\n",
        "    axes[row_idx, col_idx].imshow(detect_img)\n",
        "    axes[row_idx, col_idx].axis('off')\n",
        "\n",
        "# Adjust layout spacing\n",
        "plt.subplots_adjust(wspace=0.05, hspace=0.05)\n",
        "plt.show()\n"
      ],
      "metadata": {
        "id": "wmI3zTlrpcT3"
      },
      "execution_count": null,
      "outputs": []
    },
    {
      "cell_type": "code",
      "source": [
        "import random\n",
        "import os # Import the os module\n",
        "import matplotlib.pyplot as plt # Import matplotlib.pyplot\n",
        "\n",
        "# Define the directory where the custom images are stored\n",
        "custom_image_dir = '/content/drive/MyDrive/Master/Dataset/YOLO/test/images'\n",
        "\n",
        "# Get the list of image files in the directory\n",
        "image_files = os.listdir(custom_image_dir)\n",
        "\n",
        "# Select 25 random images from the list\n",
        "selected_images = random.sample(image_files, 16)\n",
        "\n",
        "# Create a figure with subplots for each image\n",
        "fig, axes = plt.subplots(nrows=4, ncols=4, figsize=(20, 20))\n",
        "\n",
        "# Iterate over the selected images and plot each one\n",
        "for i, img_file in enumerate(selected_images):\n",
        "\n",
        "    # Compute the row and column index of the current subplot\n",
        "\n",
        "    row_idx = i // 4\n",
        "    col_idx = i % 4\n",
        "\n",
        "    # Load the current image and run object detection\n",
        "    img_path = os.path.join(custom_image_dir, img_file)\n",
        "    detect_img = ship_detect(img_path)\n",
        "\n",
        "    # Plot the current image on the appropriate subplot\n",
        "    axes[row_idx, col_idx].imshow(detect_img)\n",
        "    axes[row_idx, col_idx].axis('off')\n",
        "\n",
        "# Adjust the spacing between the subplots\n",
        "plt.subplots_adjust(wspace=0.05, hspace=0.05)\n",
        "plt.show()"
      ],
      "metadata": {
        "id": "QPpXLJad_gdQ"
      },
      "execution_count": null,
      "outputs": []
    },
    {
      "cell_type": "code",
      "source": [
        "def ship_detect(img_path):\n",
        "    # Read the image\n",
        "    img = cv2.imread(img_path)\n",
        "\n",
        "    # Run detection\n",
        "    detect_result = model(img)\n",
        "\n",
        "    # Plot the detection results (for visual display)\n",
        "    detect_img = detect_result[0].plot()\n",
        "    detect_img = cv2.cvtColor(detect_img, cv2.COLOR_BGR2RGB)\n",
        "\n",
        "    # Extract confidence scores from results\n",
        "    scores = detect_result[0].boxes.conf.cpu().numpy()\n",
        "\n",
        "    # Round to 4 decimal places\n",
        "    scores = [round(score, 4) for score in scores]\n",
        "\n",
        "    return detect_img, scores\n"
      ],
      "metadata": {
        "id": "nVC-D-ZhA81v"
      },
      "execution_count": null,
      "outputs": []
    },
    {
      "cell_type": "code",
      "source": [
        "import matplotlib.pyplot as plt\n",
        "import os\n",
        "import random\n",
        "import cv2 # Import cv2 as it is used in ship_detect\n",
        "import numpy as np # Import numpy as it is used in ship_detect\n",
        "\n",
        "# Define the directory where the custom images are stored\n",
        "custom_image_dir = '/content/drive/MyDrive/Master/Dataset/YOLO/test/images'\n",
        "\n",
        "# Get the list of image files in the directory\n",
        "image_files = os.listdir(custom_image_dir)\n",
        "\n",
        "# Define the ship_detect function\n",
        "def ship_detect(img_path):\n",
        "    # Read the image\n",
        "    img = cv2.imread(img_path)\n",
        "\n",
        "    # Run detection\n",
        "    detect_result = model(img)\n",
        "\n",
        "    # Plot the detection results (for visual display)\n",
        "    detect_img = detect_result[0].plot()\n",
        "    detect_img = cv2.cvtColor(detect_img, cv2.COLOR_BGR2RGB)\n",
        "\n",
        "    # Extract confidence scores from results\n",
        "    scores = detect_result[0].boxes.conf.cpu().numpy()\n",
        "\n",
        "    # Round to 4 decimal places\n",
        "    scores = [round(score, 4) for score in scores]\n",
        "\n",
        "    return detect_img, scores\n",
        "\n",
        "\n",
        "# Randomly select 25 images\n",
        "selected_images = random.sample(image_files, 25)\n",
        "\n",
        "# Plotting\n",
        "fig, axes = plt.subplots(5, 5, figsize=(15, 15))\n",
        "for i, img_file in enumerate(selected_images):\n",
        "    row, col = divmod(i, 5)\n",
        "    img_path = os.path.join(custom_image_dir, img_file)\n",
        "\n",
        "    # Get detection image and confidence scores\n",
        "    detect_img, scores = ship_detect(img_path)\n",
        "\n",
        "    # Display image\n",
        "    axes[row, col].imshow(detect_img)\n",
        "    axes[row, col].axis('off')\n",
        "\n",
        "    # Show the top-1 score (or all if you want)\n",
        "    if scores:\n",
        "        axes[row, col].set_title(f\"Score: {scores[0]:.4f}\")\n",
        "    else:\n",
        "        axes[row, col].set_title(\"No detections\")\n",
        "\n",
        "plt.tight_layout()\n",
        "plt.show()"
      ],
      "metadata": {
        "id": "TOhfkR4AFTbO"
      },
      "execution_count": null,
      "outputs": []
    }
  ]
}